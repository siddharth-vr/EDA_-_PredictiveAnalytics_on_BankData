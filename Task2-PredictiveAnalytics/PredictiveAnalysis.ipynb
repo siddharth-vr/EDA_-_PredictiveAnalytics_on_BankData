{
 "cells": [
  {
   "cell_type": "markdown",
   "metadata": {},
   "source": [
    "# Predictive Analysis"
   ]
  },
  {
   "cell_type": "markdown",
   "metadata": {},
   "source": [
    "#### Importing Libraries"
   ]
  },
  {
   "cell_type": "code",
   "execution_count": 1,
   "metadata": {},
   "outputs": [],
   "source": [
    "#Libraries for Wrangling\n",
    "import pandas as pd\n",
    "import numpy as np\n",
    "\n",
    "#Libraries for Excel operations\n",
    "import xlrd\n",
    "import openpyxl\n",
    "\n",
    "#Libraries for visualization\n",
    "import seaborn as sns\n",
    "import matplotlib.pyplot as plt\n",
    "from scipy.stats import linregress\n",
    "\n",
    "#Libraries for building and Validating model\n",
    "from sklearn.linear_model import LinearRegression\n",
    "from sklearn.tree import DecisionTreeRegressor \n",
    "from sklearn.model_selection import train_test_split \n",
    "from sklearn import metrics\n",
    "from sklearn.model_selection import cross_val_score"
   ]
  },
  {
   "cell_type": "markdown",
   "metadata": {},
   "source": [
    "#### Importing Dataset"
   ]
  },
  {
   "cell_type": "code",
   "execution_count": 2,
   "metadata": {},
   "outputs": [],
   "source": [
    "raw_data = pd.read_excel('ANZ synthesised transaction dataset.xlsx')"
   ]
  },
  {
   "cell_type": "code",
   "execution_count": 3,
   "metadata": {},
   "outputs": [
    {
     "name": "stdout",
     "output_type": "stream",
     "text": [
      "<class 'pandas.core.frame.DataFrame'>\n",
      "RangeIndex: 12043 entries, 0 to 12042\n",
      "Data columns (total 23 columns):\n",
      " #   Column             Non-Null Count  Dtype         \n",
      "---  ------             --------------  -----         \n",
      " 0   status             12043 non-null  object        \n",
      " 1   card_present_flag  7717 non-null   float64       \n",
      " 2   bpay_biller_code   885 non-null    object        \n",
      " 3   account            12043 non-null  object        \n",
      " 4   currency           12043 non-null  object        \n",
      " 5   long_lat           12043 non-null  object        \n",
      " 6   txn_description    12043 non-null  object        \n",
      " 7   merchant_id        7717 non-null   object        \n",
      " 8   merchant_code      883 non-null    float64       \n",
      " 9   first_name         12043 non-null  object        \n",
      " 10  balance            12043 non-null  float64       \n",
      " 11  date               12043 non-null  datetime64[ns]\n",
      " 12  gender             12043 non-null  object        \n",
      " 13  age                12043 non-null  int64         \n",
      " 14  merchant_suburb    7717 non-null   object        \n",
      " 15  merchant_state     7717 non-null   object        \n",
      " 16  extraction         12043 non-null  object        \n",
      " 17  amount             12043 non-null  float64       \n",
      " 18  transaction_id     12043 non-null  object        \n",
      " 19  country            12043 non-null  object        \n",
      " 20  customer_id        12043 non-null  object        \n",
      " 21  merchant_long_lat  7717 non-null   object        \n",
      " 22  movement           12043 non-null  object        \n",
      "dtypes: datetime64[ns](1), float64(4), int64(1), object(17)\n",
      "memory usage: 1.3+ MB\n"
     ]
    }
   ],
   "source": [
    "#Summarising Dataset\n",
    "raw_data.head()\n",
    "raw_data.info()"
   ]
  },
  {
   "cell_type": "markdown",
   "metadata": {},
   "source": [
    "#### Wrangling Dataset"
   ]
  },
  {
   "cell_type": "markdown",
   "metadata": {},
   "source": [
    "##### Creating dataframe1"
   ]
  },
  {
   "cell_type": "code",
   "execution_count": 4,
   "metadata": {},
   "outputs": [],
   "source": [
    "df = raw_data"
   ]
  },
  {
   "cell_type": "code",
   "execution_count": 5,
   "metadata": {},
   "outputs": [],
   "source": [
    "df_salary = df[(df.txn_description == \"PAY/SALARY\") & (df.movement == \"credit\")]"
   ]
  },
  {
   "cell_type": "code",
   "execution_count": 6,
   "metadata": {},
   "outputs": [],
   "source": [
    "df_salary = df_salary.groupby('customer_id').agg({\n",
    "    ##'age':'mean',\n",
    "    'amount':'mean',\n",
    "    'transaction_id':'count'\n",
    "})"
   ]
  },
  {
   "cell_type": "code",
   "execution_count": 7,
   "metadata": {},
   "outputs": [],
   "source": [
    "df_salary['salary_type'] = df_salary['transaction_id'].apply(lambda x: 'Weekly' if x > 10 else 'Fortnite' )"
   ]
  },
  {
   "cell_type": "code",
   "execution_count": 8,
   "metadata": {},
   "outputs": [],
   "source": [
    "df_salary['annual_salary_cal'] = df_salary['salary_type'].apply(lambda x: 52 if x ==\"Weekly\" else 26 )"
   ]
  },
  {
   "cell_type": "code",
   "execution_count": 9,
   "metadata": {},
   "outputs": [],
   "source": [
    "df_salary['annual_salary'] = df_salary['annual_salary_cal'] * df_salary['amount']"
   ]
  },
  {
   "cell_type": "code",
   "execution_count": 10,
   "metadata": {},
   "outputs": [],
   "source": [
    "df_salary = df_salary.drop(['annual_salary_cal','transaction_id'], axis =1)"
   ]
  },
  {
   "cell_type": "code",
   "execution_count": 11,
   "metadata": {},
   "outputs": [],
   "source": [
    "df_salary['salary_code'] = df_salary['salary_type'].apply(lambda x: 0 if x ==\"Weekly\" else 1)"
   ]
  },
  {
   "cell_type": "code",
   "execution_count": 12,
   "metadata": {},
   "outputs": [
    {
     "data": {
      "text/html": [
       "<div>\n",
       "<style scoped>\n",
       "    .dataframe tbody tr th:only-of-type {\n",
       "        vertical-align: middle;\n",
       "    }\n",
       "\n",
       "    .dataframe tbody tr th {\n",
       "        vertical-align: top;\n",
       "    }\n",
       "\n",
       "    .dataframe thead th {\n",
       "        text-align: right;\n",
       "    }\n",
       "</style>\n",
       "<table border=\"1\" class=\"dataframe\">\n",
       "  <thead>\n",
       "    <tr style=\"text-align: right;\">\n",
       "      <th></th>\n",
       "      <th>amount</th>\n",
       "      <th>salary_type</th>\n",
       "      <th>annual_salary</th>\n",
       "      <th>salary_code</th>\n",
       "    </tr>\n",
       "    <tr>\n",
       "      <th>customer_id</th>\n",
       "      <th></th>\n",
       "      <th></th>\n",
       "      <th></th>\n",
       "      <th></th>\n",
       "    </tr>\n",
       "  </thead>\n",
       "  <tbody>\n",
       "    <tr>\n",
       "      <th>CUS-1005756958</th>\n",
       "      <td>970.47</td>\n",
       "      <td>Weekly</td>\n",
       "      <td>50464.44</td>\n",
       "      <td>0</td>\n",
       "    </tr>\n",
       "    <tr>\n",
       "      <th>CUS-1117979751</th>\n",
       "      <td>3578.65</td>\n",
       "      <td>Fortnite</td>\n",
       "      <td>93044.90</td>\n",
       "      <td>1</td>\n",
       "    </tr>\n",
       "    <tr>\n",
       "      <th>CUS-1140341822</th>\n",
       "      <td>1916.51</td>\n",
       "      <td>Fortnite</td>\n",
       "      <td>49829.26</td>\n",
       "      <td>1</td>\n",
       "    </tr>\n",
       "    <tr>\n",
       "      <th>CUS-1147642491</th>\n",
       "      <td>1711.39</td>\n",
       "      <td>Weekly</td>\n",
       "      <td>88992.28</td>\n",
       "      <td>0</td>\n",
       "    </tr>\n",
       "    <tr>\n",
       "      <th>CUS-1196156254</th>\n",
       "      <td>3903.73</td>\n",
       "      <td>Fortnite</td>\n",
       "      <td>101496.98</td>\n",
       "      <td>1</td>\n",
       "    </tr>\n",
       "    <tr>\n",
       "      <th>...</th>\n",
       "      <td>...</td>\n",
       "      <td>...</td>\n",
       "      <td>...</td>\n",
       "      <td>...</td>\n",
       "    </tr>\n",
       "    <tr>\n",
       "      <th>CUS-72755508</th>\n",
       "      <td>725.32</td>\n",
       "      <td>Weekly</td>\n",
       "      <td>37716.64</td>\n",
       "      <td>0</td>\n",
       "    </tr>\n",
       "    <tr>\n",
       "      <th>CUS-809013380</th>\n",
       "      <td>1037.07</td>\n",
       "      <td>Weekly</td>\n",
       "      <td>53927.64</td>\n",
       "      <td>0</td>\n",
       "    </tr>\n",
       "    <tr>\n",
       "      <th>CUS-860700529</th>\n",
       "      <td>1808.62</td>\n",
       "      <td>Fortnite</td>\n",
       "      <td>47024.12</td>\n",
       "      <td>1</td>\n",
       "    </tr>\n",
       "    <tr>\n",
       "      <th>CUS-880898248</th>\n",
       "      <td>1433.98</td>\n",
       "      <td>Fortnite</td>\n",
       "      <td>37283.48</td>\n",
       "      <td>1</td>\n",
       "    </tr>\n",
       "    <tr>\n",
       "      <th>CUS-883482547</th>\n",
       "      <td>3977.46</td>\n",
       "      <td>Fortnite</td>\n",
       "      <td>103413.96</td>\n",
       "      <td>1</td>\n",
       "    </tr>\n",
       "  </tbody>\n",
       "</table>\n",
       "<p>100 rows × 4 columns</p>\n",
       "</div>"
      ],
      "text/plain": [
       "                 amount salary_type  annual_salary  salary_code\n",
       "customer_id                                                    \n",
       "CUS-1005756958   970.47      Weekly       50464.44            0\n",
       "CUS-1117979751  3578.65    Fortnite       93044.90            1\n",
       "CUS-1140341822  1916.51    Fortnite       49829.26            1\n",
       "CUS-1147642491  1711.39      Weekly       88992.28            0\n",
       "CUS-1196156254  3903.73    Fortnite      101496.98            1\n",
       "...                 ...         ...            ...          ...\n",
       "CUS-72755508     725.32      Weekly       37716.64            0\n",
       "CUS-809013380   1037.07      Weekly       53927.64            0\n",
       "CUS-860700529   1808.62    Fortnite       47024.12            1\n",
       "CUS-880898248   1433.98    Fortnite       37283.48            1\n",
       "CUS-883482547   3977.46    Fortnite      103413.96            1\n",
       "\n",
       "[100 rows x 4 columns]"
      ]
     },
     "execution_count": 12,
     "metadata": {},
     "output_type": "execute_result"
    }
   ],
   "source": [
    "df_salary"
   ]
  },
  {
   "cell_type": "markdown",
   "metadata": {},
   "source": [
    "##### Creating dataframe2"
   ]
  },
  {
   "cell_type": "code",
   "execution_count": 13,
   "metadata": {},
   "outputs": [],
   "source": [
    "df_ag = df.groupby('customer_id').agg({\n",
    "    'age':'mean',\n",
    "    'gender':'max'\n",
    "})"
   ]
  },
  {
   "cell_type": "code",
   "execution_count": 14,
   "metadata": {},
   "outputs": [
    {
     "data": {
      "text/html": [
       "<div>\n",
       "<style scoped>\n",
       "    .dataframe tbody tr th:only-of-type {\n",
       "        vertical-align: middle;\n",
       "    }\n",
       "\n",
       "    .dataframe tbody tr th {\n",
       "        vertical-align: top;\n",
       "    }\n",
       "\n",
       "    .dataframe thead th {\n",
       "        text-align: right;\n",
       "    }\n",
       "</style>\n",
       "<table border=\"1\" class=\"dataframe\">\n",
       "  <thead>\n",
       "    <tr style=\"text-align: right;\">\n",
       "      <th></th>\n",
       "      <th>age</th>\n",
       "      <th>gender</th>\n",
       "    </tr>\n",
       "    <tr>\n",
       "      <th>customer_id</th>\n",
       "      <th></th>\n",
       "      <th></th>\n",
       "    </tr>\n",
       "  </thead>\n",
       "  <tbody>\n",
       "    <tr>\n",
       "      <th>CUS-1005756958</th>\n",
       "      <td>53</td>\n",
       "      <td>F</td>\n",
       "    </tr>\n",
       "    <tr>\n",
       "      <th>CUS-1117979751</th>\n",
       "      <td>21</td>\n",
       "      <td>M</td>\n",
       "    </tr>\n",
       "    <tr>\n",
       "      <th>CUS-1140341822</th>\n",
       "      <td>28</td>\n",
       "      <td>M</td>\n",
       "    </tr>\n",
       "    <tr>\n",
       "      <th>CUS-1147642491</th>\n",
       "      <td>34</td>\n",
       "      <td>F</td>\n",
       "    </tr>\n",
       "    <tr>\n",
       "      <th>CUS-1196156254</th>\n",
       "      <td>34</td>\n",
       "      <td>F</td>\n",
       "    </tr>\n",
       "    <tr>\n",
       "      <th>...</th>\n",
       "      <td>...</td>\n",
       "      <td>...</td>\n",
       "    </tr>\n",
       "    <tr>\n",
       "      <th>CUS-72755508</th>\n",
       "      <td>35</td>\n",
       "      <td>F</td>\n",
       "    </tr>\n",
       "    <tr>\n",
       "      <th>CUS-809013380</th>\n",
       "      <td>21</td>\n",
       "      <td>F</td>\n",
       "    </tr>\n",
       "    <tr>\n",
       "      <th>CUS-860700529</th>\n",
       "      <td>30</td>\n",
       "      <td>M</td>\n",
       "    </tr>\n",
       "    <tr>\n",
       "      <th>CUS-880898248</th>\n",
       "      <td>26</td>\n",
       "      <td>M</td>\n",
       "    </tr>\n",
       "    <tr>\n",
       "      <th>CUS-883482547</th>\n",
       "      <td>19</td>\n",
       "      <td>F</td>\n",
       "    </tr>\n",
       "  </tbody>\n",
       "</table>\n",
       "<p>100 rows × 2 columns</p>\n",
       "</div>"
      ],
      "text/plain": [
       "                age gender\n",
       "customer_id               \n",
       "CUS-1005756958   53      F\n",
       "CUS-1117979751   21      M\n",
       "CUS-1140341822   28      M\n",
       "CUS-1147642491   34      F\n",
       "CUS-1196156254   34      F\n",
       "...             ...    ...\n",
       "CUS-72755508     35      F\n",
       "CUS-809013380    21      F\n",
       "CUS-860700529    30      M\n",
       "CUS-880898248    26      M\n",
       "CUS-883482547    19      F\n",
       "\n",
       "[100 rows x 2 columns]"
      ]
     },
     "execution_count": 14,
     "metadata": {},
     "output_type": "execute_result"
    }
   ],
   "source": [
    "df_ag"
   ]
  },
  {
   "cell_type": "markdown",
   "metadata": {},
   "source": [
    "##### Creating dataframe3"
   ]
  },
  {
   "cell_type": "code",
   "execution_count": 15,
   "metadata": {},
   "outputs": [],
   "source": [
    "df_trans = df[(df.movement == \"debit\") & (df.txn_description != \"PAY/SALARY\")]"
   ]
  },
  {
   "cell_type": "code",
   "execution_count": 16,
   "metadata": {},
   "outputs": [],
   "source": [
    "df_trans = df_trans.groupby(['customer_id','date']).agg({\n",
    "    'transaction_id':'count',\n",
    "    'amount':'sum',\n",
    "    'balance':'mean'\n",
    "})"
   ]
  },
  {
   "cell_type": "code",
   "execution_count": 17,
   "metadata": {},
   "outputs": [],
   "source": [
    "#df_trans.head(34)"
   ]
  },
  {
   "cell_type": "code",
   "execution_count": 18,
   "metadata": {},
   "outputs": [],
   "source": [
    "df_trans = df_trans.groupby('customer_id').agg({\n",
    "    'transaction_id':'mean',\n",
    "    'amount':'mean',\n",
    "    'balance':'mean'\n",
    "})"
   ]
  },
  {
   "cell_type": "markdown",
   "metadata": {},
   "source": [
    "##### Merging all dataframes"
   ]
  },
  {
   "cell_type": "code",
   "execution_count": 19,
   "metadata": {},
   "outputs": [],
   "source": [
    "df_new = pd.merge(df_trans,df_ag, on='customer_id', how = 'inner')\n",
    "df_new = pd.merge(df_new,df_salary, on='customer_id', how = 'inner')\n",
    "df_new = df_new.reset_index()"
   ]
  },
  {
   "cell_type": "code",
   "execution_count": 20,
   "metadata": {},
   "outputs": [
    {
     "name": "stdout",
     "output_type": "stream",
     "text": [
      "<class 'pandas.core.frame.DataFrame'>\n",
      "RangeIndex: 100 entries, 0 to 99\n",
      "Data columns (total 10 columns):\n",
      " #   Column          Non-Null Count  Dtype  \n",
      "---  ------          --------------  -----  \n",
      " 0   customer_id     100 non-null    object \n",
      " 1   transaction_id  100 non-null    float64\n",
      " 2   amount_x        100 non-null    float64\n",
      " 3   balance         100 non-null    float64\n",
      " 4   age             100 non-null    int64  \n",
      " 5   gender          100 non-null    object \n",
      " 6   amount_y        100 non-null    float64\n",
      " 7   salary_type     100 non-null    object \n",
      " 8   annual_salary   100 non-null    float64\n",
      " 9   salary_code     100 non-null    int64  \n",
      "dtypes: float64(5), int64(2), object(3)\n",
      "memory usage: 6.7+ KB\n"
     ]
    }
   ],
   "source": [
    "df_new.info()"
   ]
  },
  {
   "cell_type": "code",
   "execution_count": 21,
   "metadata": {},
   "outputs": [],
   "source": [
    "df_new = df_new.rename( columns = {\n",
    "    'customer_id':'Customer_ID',\n",
    "    'transaction_id':'Avg.Transaction/Day',\n",
    "    'amount_x':'Avg.Spending/Day',\n",
    "    'balance':'Avg.Balance/Day',\n",
    "    'age':'Age',\n",
    "    'gender':'Gender',\n",
    "    'amount_y':'Salary',\n",
    "    'salary_type':'SalaryType',\n",
    "    'annual_salary':'AnnualSalary',\n",
    "    'salary_code':'SalaryCode'\n",
    "})"
   ]
  },
  {
   "cell_type": "code",
   "execution_count": 22,
   "metadata": {},
   "outputs": [
    {
     "name": "stdout",
     "output_type": "stream",
     "text": [
      "<class 'pandas.core.frame.DataFrame'>\n",
      "RangeIndex: 100 entries, 0 to 99\n",
      "Data columns (total 10 columns):\n",
      " #   Column               Non-Null Count  Dtype  \n",
      "---  ------               --------------  -----  \n",
      " 0   Customer_ID          100 non-null    object \n",
      " 1   Avg.Transaction/Day  100 non-null    float64\n",
      " 2   Avg.Spending/Day     100 non-null    float64\n",
      " 3   Avg.Balance/Day      100 non-null    float64\n",
      " 4   Age                  100 non-null    int64  \n",
      " 5   Gender               100 non-null    object \n",
      " 6   Salary               100 non-null    float64\n",
      " 7   SalaryType           100 non-null    object \n",
      " 8   AnnualSalary         100 non-null    float64\n",
      " 9   SalaryCode           100 non-null    int64  \n",
      "dtypes: float64(5), int64(2), object(3)\n",
      "memory usage: 6.7+ KB\n"
     ]
    }
   ],
   "source": [
    "df_new.info()"
   ]
  },
  {
   "cell_type": "code",
   "execution_count": 23,
   "metadata": {},
   "outputs": [],
   "source": [
    "df_1 = df_new\n",
    "df_1['GenderCode'] = df_1['Gender'].apply(lambda x: 0 if x == \"M\" else 1)"
   ]
  },
  {
   "cell_type": "code",
   "execution_count": 24,
   "metadata": {},
   "outputs": [],
   "source": [
    "# Exporting the Wrangled Dataset\n",
    "df_1.to_excel(r'WrangledANZdata.xlsx', index = False)"
   ]
  },
  {
   "cell_type": "code",
   "execution_count": null,
   "metadata": {},
   "outputs": [],
   "source": []
  },
  {
   "cell_type": "code",
   "execution_count": 25,
   "metadata": {},
   "outputs": [
    {
     "data": {
      "text/html": [
       "<div>\n",
       "<style scoped>\n",
       "    .dataframe tbody tr th:only-of-type {\n",
       "        vertical-align: middle;\n",
       "    }\n",
       "\n",
       "    .dataframe tbody tr th {\n",
       "        vertical-align: top;\n",
       "    }\n",
       "\n",
       "    .dataframe thead th {\n",
       "        text-align: right;\n",
       "    }\n",
       "</style>\n",
       "<table border=\"1\" class=\"dataframe\">\n",
       "  <thead>\n",
       "    <tr style=\"text-align: right;\">\n",
       "      <th></th>\n",
       "      <th>Customer_ID</th>\n",
       "      <th>Avg.Transaction/Day</th>\n",
       "      <th>Avg.Spending/Day</th>\n",
       "      <th>Avg.Balance/Day</th>\n",
       "      <th>Age</th>\n",
       "      <th>Gender</th>\n",
       "      <th>Salary</th>\n",
       "      <th>SalaryType</th>\n",
       "      <th>AnnualSalary</th>\n",
       "      <th>SalaryCode</th>\n",
       "      <th>GenderCode</th>\n",
       "    </tr>\n",
       "  </thead>\n",
       "  <tbody>\n",
       "    <tr>\n",
       "      <th>0</th>\n",
       "      <td>CUS-1005756958</td>\n",
       "      <td>1.764706</td>\n",
       "      <td>107.437059</td>\n",
       "      <td>2280.518333</td>\n",
       "      <td>53</td>\n",
       "      <td>F</td>\n",
       "      <td>970.47</td>\n",
       "      <td>Weekly</td>\n",
       "      <td>50464.44</td>\n",
       "      <td>0</td>\n",
       "      <td>1</td>\n",
       "    </tr>\n",
       "    <tr>\n",
       "      <th>1</th>\n",
       "      <td>CUS-1117979751</td>\n",
       "      <td>1.550000</td>\n",
       "      <td>148.897000</td>\n",
       "      <td>9906.595539</td>\n",
       "      <td>21</td>\n",
       "      <td>M</td>\n",
       "      <td>3578.65</td>\n",
       "      <td>Fortnite</td>\n",
       "      <td>93044.90</td>\n",
       "      <td>1</td>\n",
       "      <td>0</td>\n",
       "    </tr>\n",
       "    <tr>\n",
       "      <th>2</th>\n",
       "      <td>CUS-1140341822</td>\n",
       "      <td>1.897436</td>\n",
       "      <td>141.321538</td>\n",
       "      <td>5376.821966</td>\n",
       "      <td>28</td>\n",
       "      <td>M</td>\n",
       "      <td>1916.51</td>\n",
       "      <td>Fortnite</td>\n",
       "      <td>49829.26</td>\n",
       "      <td>1</td>\n",
       "      <td>0</td>\n",
       "    </tr>\n",
       "    <tr>\n",
       "      <th>3</th>\n",
       "      <td>CUS-1147642491</td>\n",
       "      <td>1.944444</td>\n",
       "      <td>124.680556</td>\n",
       "      <td>8949.697895</td>\n",
       "      <td>34</td>\n",
       "      <td>F</td>\n",
       "      <td>1711.39</td>\n",
       "      <td>Weekly</td>\n",
       "      <td>88992.28</td>\n",
       "      <td>0</td>\n",
       "      <td>1</td>\n",
       "    </tr>\n",
       "    <tr>\n",
       "      <th>4</th>\n",
       "      <td>CUS-1196156254</td>\n",
       "      <td>3.090909</td>\n",
       "      <td>113.306623</td>\n",
       "      <td>22143.115248</td>\n",
       "      <td>34</td>\n",
       "      <td>F</td>\n",
       "      <td>3903.73</td>\n",
       "      <td>Fortnite</td>\n",
       "      <td>101496.98</td>\n",
       "      <td>1</td>\n",
       "      <td>1</td>\n",
       "    </tr>\n",
       "    <tr>\n",
       "      <th>...</th>\n",
       "      <td>...</td>\n",
       "      <td>...</td>\n",
       "      <td>...</td>\n",
       "      <td>...</td>\n",
       "      <td>...</td>\n",
       "      <td>...</td>\n",
       "      <td>...</td>\n",
       "      <td>...</td>\n",
       "      <td>...</td>\n",
       "      <td>...</td>\n",
       "      <td>...</td>\n",
       "    </tr>\n",
       "    <tr>\n",
       "      <th>95</th>\n",
       "      <td>CUS-72755508</td>\n",
       "      <td>1.277778</td>\n",
       "      <td>75.959167</td>\n",
       "      <td>4388.692037</td>\n",
       "      <td>35</td>\n",
       "      <td>F</td>\n",
       "      <td>725.32</td>\n",
       "      <td>Weekly</td>\n",
       "      <td>37716.64</td>\n",
       "      <td>0</td>\n",
       "      <td>1</td>\n",
       "    </tr>\n",
       "    <tr>\n",
       "      <th>96</th>\n",
       "      <td>CUS-809013380</td>\n",
       "      <td>2.581395</td>\n",
       "      <td>123.911163</td>\n",
       "      <td>4094.616089</td>\n",
       "      <td>21</td>\n",
       "      <td>F</td>\n",
       "      <td>1037.07</td>\n",
       "      <td>Weekly</td>\n",
       "      <td>53927.64</td>\n",
       "      <td>0</td>\n",
       "      <td>1</td>\n",
       "    </tr>\n",
       "    <tr>\n",
       "      <th>97</th>\n",
       "      <td>CUS-860700529</td>\n",
       "      <td>3.439394</td>\n",
       "      <td>109.820606</td>\n",
       "      <td>3330.810259</td>\n",
       "      <td>30</td>\n",
       "      <td>M</td>\n",
       "      <td>1808.62</td>\n",
       "      <td>Fortnite</td>\n",
       "      <td>47024.12</td>\n",
       "      <td>1</td>\n",
       "      <td>0</td>\n",
       "    </tr>\n",
       "    <tr>\n",
       "      <th>98</th>\n",
       "      <td>CUS-880898248</td>\n",
       "      <td>1.800000</td>\n",
       "      <td>71.464250</td>\n",
       "      <td>8530.379646</td>\n",
       "      <td>26</td>\n",
       "      <td>M</td>\n",
       "      <td>1433.98</td>\n",
       "      <td>Fortnite</td>\n",
       "      <td>37283.48</td>\n",
       "      <td>1</td>\n",
       "      <td>0</td>\n",
       "    </tr>\n",
       "    <tr>\n",
       "      <th>99</th>\n",
       "      <td>CUS-883482547</td>\n",
       "      <td>2.478261</td>\n",
       "      <td>127.495507</td>\n",
       "      <td>10287.537284</td>\n",
       "      <td>19</td>\n",
       "      <td>F</td>\n",
       "      <td>3977.46</td>\n",
       "      <td>Fortnite</td>\n",
       "      <td>103413.96</td>\n",
       "      <td>1</td>\n",
       "      <td>1</td>\n",
       "    </tr>\n",
       "  </tbody>\n",
       "</table>\n",
       "<p>100 rows × 11 columns</p>\n",
       "</div>"
      ],
      "text/plain": [
       "       Customer_ID  Avg.Transaction/Day  Avg.Spending/Day  Avg.Balance/Day  \\\n",
       "0   CUS-1005756958             1.764706        107.437059      2280.518333   \n",
       "1   CUS-1117979751             1.550000        148.897000      9906.595539   \n",
       "2   CUS-1140341822             1.897436        141.321538      5376.821966   \n",
       "3   CUS-1147642491             1.944444        124.680556      8949.697895   \n",
       "4   CUS-1196156254             3.090909        113.306623     22143.115248   \n",
       "..             ...                  ...               ...              ...   \n",
       "95    CUS-72755508             1.277778         75.959167      4388.692037   \n",
       "96   CUS-809013380             2.581395        123.911163      4094.616089   \n",
       "97   CUS-860700529             3.439394        109.820606      3330.810259   \n",
       "98   CUS-880898248             1.800000         71.464250      8530.379646   \n",
       "99   CUS-883482547             2.478261        127.495507     10287.537284   \n",
       "\n",
       "    Age Gender   Salary SalaryType  AnnualSalary  SalaryCode  GenderCode  \n",
       "0    53      F   970.47     Weekly      50464.44           0           1  \n",
       "1    21      M  3578.65   Fortnite      93044.90           1           0  \n",
       "2    28      M  1916.51   Fortnite      49829.26           1           0  \n",
       "3    34      F  1711.39     Weekly      88992.28           0           1  \n",
       "4    34      F  3903.73   Fortnite     101496.98           1           1  \n",
       "..  ...    ...      ...        ...           ...         ...         ...  \n",
       "95   35      F   725.32     Weekly      37716.64           0           1  \n",
       "96   21      F  1037.07     Weekly      53927.64           0           1  \n",
       "97   30      M  1808.62   Fortnite      47024.12           1           0  \n",
       "98   26      M  1433.98   Fortnite      37283.48           1           0  \n",
       "99   19      F  3977.46   Fortnite     103413.96           1           1  \n",
       "\n",
       "[100 rows x 11 columns]"
      ]
     },
     "execution_count": 25,
     "metadata": {},
     "output_type": "execute_result"
    }
   ],
   "source": [
    "df_1"
   ]
  },
  {
   "cell_type": "markdown",
   "metadata": {},
   "source": [
    "## Exploratory Data Analysis"
   ]
  },
  {
   "cell_type": "markdown",
   "metadata": {},
   "source": [
    "#### Correlation"
   ]
  },
  {
   "cell_type": "code",
   "execution_count": 26,
   "metadata": {},
   "outputs": [],
   "source": [
    "df_2 = df_1[['Age','AnnualSalary']]"
   ]
  },
  {
   "cell_type": "code",
   "execution_count": 27,
   "metadata": {},
   "outputs": [
    {
     "data": {
      "text/plain": [
       "array([[ 1.        , -0.07255845],\n",
       "       [-0.07255845,  1.        ]])"
      ]
     },
     "execution_count": 27,
     "metadata": {},
     "output_type": "execute_result"
    }
   ],
   "source": [
    "np.corrcoef(df_2['Age'],df_2['AnnualSalary'])"
   ]
  },
  {
   "cell_type": "code",
   "execution_count": 28,
   "metadata": {},
   "outputs": [
    {
     "data": {
      "image/png": "[encoded data removed]",
      "text/plain": [
       "<Figure size 432x288 with 2 Axes>"
      ]
     },
     "metadata": {
      "needs_background": "light"
     },
     "output_type": "display_data"
    }
   ],
   "source": [
    "#Plot to show the correlation between all variables\n",
    "sns.heatmap(df_1.corr(), annot=True)\n",
    "plt.show()"
   ]
  },
  {
   "cell_type": "markdown",
   "metadata": {},
   "source": [
    "The correlation plot suggests that most of the dependent variables are not associated with the independent variable.\n",
    "Let us plot some visualization to analysis further."
   ]
  },
  {
   "cell_type": "code",
   "execution_count": 29,
   "metadata": {},
   "outputs": [
    {
     "data": {
      "text/plain": [
       "<seaborn.axisgrid.FacetGrid at 0xe69d430>"
      ]
     },
     "execution_count": 29,
     "metadata": {},
     "output_type": "execute_result"
    },
    {
     "data": {
      "image/png": "[encoded data removed]",
      "text/plain": [
       "<Figure size 720x360 with 2 Axes>"
      ]
     },
     "metadata": {
      "needs_background": "light"
     },
     "output_type": "display_data"
    }
   ],
   "source": [
    "#Plot to show relation between Age and Annual Salary by SalaryType\n",
    "sns.relplot(\n",
    "    data=df_1, x=\"Age\", y=\"AnnualSalary\",\n",
    "    col=\"SalaryType\",\n",
    "    kind=\"scatter\"\n",
    ")"
   ]
  },
  {
   "cell_type": "code",
   "execution_count": 30,
   "metadata": {},
   "outputs": [
    {
     "data": {
      "text/plain": [
       "<seaborn.axisgrid.FacetGrid at 0xe67fff0>"
      ]
     },
     "execution_count": 30,
     "metadata": {},
     "output_type": "execute_result"
    },
    {
     "data": {
      "image/png": "[encoded data removed]",
      "text/plain": [
       "<Figure size 720x360 with 2 Axes>"
      ]
     },
     "metadata": {
      "needs_background": "light"
     },
     "output_type": "display_data"
    }
   ],
   "source": [
    "#Plot to show relation between Age and Annual Salary by Gender\n",
    "sns.relplot(\n",
    "    data=df_1, x=\"Age\", y=\"AnnualSalary\",\n",
    "    col=\"Gender\", #hue=\"day\", style=\"day\",\n",
    "    kind=\"scatter\"\n",
    ")"
   ]
  },
  {
   "cell_type": "code",
   "execution_count": 31,
   "metadata": {},
   "outputs": [
    {
     "name": "stdout",
     "output_type": "stream",
     "text": [
      "<class 'pandas.core.frame.DataFrame'>\n",
      "RangeIndex: 100 entries, 0 to 99\n",
      "Data columns (total 11 columns):\n",
      " #   Column               Non-Null Count  Dtype  \n",
      "---  ------               --------------  -----  \n",
      " 0   Customer_ID          100 non-null    object \n",
      " 1   Avg.Transaction/Day  100 non-null    float64\n",
      " 2   Avg.Spending/Day     100 non-null    float64\n",
      " 3   Avg.Balance/Day      100 non-null    float64\n",
      " 4   Age                  100 non-null    int64  \n",
      " 5   Gender               100 non-null    object \n",
      " 6   Salary               100 non-null    float64\n",
      " 7   SalaryType           100 non-null    object \n",
      " 8   AnnualSalary         100 non-null    float64\n",
      " 9   SalaryCode           100 non-null    int64  \n",
      " 10  GenderCode           100 non-null    int64  \n",
      "dtypes: float64(5), int64(3), object(3)\n",
      "memory usage: 7.5+ KB\n"
     ]
    }
   ],
   "source": [
    "df_1.info()\n",
    "df_3 = df_1\n",
    "df_3['Age'] = df_1['Age'].astype(float)\n"
   ]
  },
  {
   "cell_type": "code",
   "execution_count": 32,
   "metadata": {},
   "outputs": [
    {
     "data": {
      "text/plain": [
       "LinregressResult(slope=-206.42485566228154, intercept=79226.58886439068, rvalue=-0.07255844686502286, pvalue=0.473122095472985, stderr=286.6254388064871)"
      ]
     },
     "execution_count": 32,
     "metadata": {},
     "output_type": "execute_result"
    }
   ],
   "source": [
    "#Finding the Slope and Intercept\n",
    "linregress(df_3['Age'],df_3['AnnualSalary'])"
   ]
  },
  {
   "cell_type": "code",
   "execution_count": 33,
   "metadata": {},
   "outputs": [
    {
     "data": {
      "text/plain": [
       "[<matplotlib.lines.Line2D at 0xe6a56f0>,\n",
       " <matplotlib.lines.Line2D at 0xe6a5f90>]"
      ]
     },
     "execution_count": 33,
     "metadata": {},
     "output_type": "execute_result"
    },
    {
     "data": {
      "image/png": "[encoded data removed]",
      "text/plain": [
       "<Figure size 432x288 with 1 Axes>"
      ]
     },
     "metadata": {
      "needs_background": "light"
     },
     "output_type": "display_data"
    }
   ],
   "source": [
    "#Scatter plot between Age and Annual Salary\n",
    "coef = np.polyfit(df_3['Age'],df_3['AnnualSalary'],1)\n",
    "poly1d_fn = np.poly1d(coef) \n",
    "\n",
    "plt.plot(df_3['Age'],df_3['AnnualSalary'], 'yo', df_3['Age'], poly1d_fn(df_3['Age']), '--k')"
   ]
  },
  {
   "cell_type": "code",
   "execution_count": 34,
   "metadata": {},
   "outputs": [
    {
     "data": {
      "text/plain": [
       "[<matplotlib.lines.Line2D at 0xe2402d0>,\n",
       " <matplotlib.lines.Line2D at 0xe240370>]"
      ]
     },
     "execution_count": 34,
     "metadata": {},
     "output_type": "execute_result"
    },
    {
     "data": {
      "image/png": "[encoded data removed]",
      "text/plain": [
       "<Figure size 432x288 with 1 Axes>"
      ]
     },
     "metadata": {
      "needs_background": "light"
     },
     "output_type": "display_data"
    }
   ],
   "source": [
    "#Scatter plot between Avg.Spending/Day and Annual Salary\n",
    "coef = np.polyfit(df_3['Avg.Spending/Day'],df_3['AnnualSalary'],1)\n",
    "poly1d_fn = np.poly1d(coef) \n",
    "# poly1d_fn is now a function which takes in x and returns an estimate for y\n",
    "\n",
    "plt.plot(df_3['Avg.Spending/Day'],df_3['AnnualSalary'], 'yo', df_3['Avg.Spending/Day'], poly1d_fn(df_3['Avg.Spending/Day']), '--k')"
   ]
  },
  {
   "cell_type": "markdown",
   "metadata": {},
   "source": [
    "Here, we could see none of the variables have a good positive relationship with the independent variable."
   ]
  },
  {
   "cell_type": "markdown",
   "metadata": {},
   "source": [
    "## Regression Model"
   ]
  },
  {
   "cell_type": "code",
   "execution_count": 35,
   "metadata": {},
   "outputs": [],
   "source": [
    "#Building a regression model to predict the annual salary for each customer using the attributes you identified above"
   ]
  },
  {
   "cell_type": "code",
   "execution_count": 36,
   "metadata": {},
   "outputs": [],
   "source": [
    "x = pd.DataFrame(df_3['Age'])\n",
    "y = pd.DataFrame(df_3['AnnualSalary'])"
   ]
  },
  {
   "cell_type": "code",
   "execution_count": 37,
   "metadata": {},
   "outputs": [],
   "source": [
    "model_lm = LinearRegression().fit(x,y.values.reshape((-1,1)))"
   ]
  },
  {
   "cell_type": "markdown",
   "metadata": {},
   "source": [
    "##### Evaluating Regression model"
   ]
  },
  {
   "cell_type": "code",
   "execution_count": 38,
   "metadata": {},
   "outputs": [
    {
     "name": "stdout",
     "output_type": "stream",
     "text": [
      "R-Squared value =  0.005264728211464176\n"
     ]
    }
   ],
   "source": [
    "print('R-Squared value = ',model_lm.score(x,y))"
   ]
  },
  {
   "cell_type": "markdown",
   "metadata": {},
   "source": [
    "Here, we have a very poor RSquare value, which suggests that model is a poor fit."
   ]
  },
  {
   "cell_type": "markdown",
   "metadata": {},
   "source": [
    "<b>Therefore, we cannot use this model to segment customers into income brackets for reporting purposes</b>"
   ]
  },
  {
   "cell_type": "markdown",
   "metadata": {},
   "source": [
    "## Decision Tree"
   ]
  },
  {
   "cell_type": "code",
   "execution_count": 39,
   "metadata": {},
   "outputs": [],
   "source": [
    "#Since Regression performs poorly, let us try building a decision tree model to predicy salary."
   ]
  },
  {
   "cell_type": "code",
   "execution_count": 40,
   "metadata": {},
   "outputs": [],
   "source": [
    "x1 = df_3[['Avg.Transaction/Day','Avg.Spending/Day','Avg.Balance/Day','Age','GenderCode','Salary','SalaryCode']]\n",
    "y1 = df_3[['AnnualSalary']]"
   ]
  },
  {
   "cell_type": "code",
   "execution_count": 41,
   "metadata": {},
   "outputs": [],
   "source": [
    "X_train, X_test, y_train, y_test = train_test_split(x1, y1, test_size=0.3, random_state=1)"
   ]
  },
  {
   "cell_type": "code",
   "execution_count": 42,
   "metadata": {},
   "outputs": [],
   "source": [
    "dtreg = DecisionTreeRegressor()"
   ]
  },
  {
   "cell_type": "code",
   "execution_count": 43,
   "metadata": {},
   "outputs": [],
   "source": [
    "dtreg = dtreg.fit(X_train,y_train)"
   ]
  },
  {
   "cell_type": "markdown",
   "metadata": {},
   "source": [
    "##### Evaluating Decision Tree model"
   ]
  },
  {
   "cell_type": "code",
   "execution_count": 44,
   "metadata": {},
   "outputs": [
    {
     "name": "stdout",
     "output_type": "stream",
     "text": [
      "R-Squared value =  0.8850607199998896\n"
     ]
    }
   ],
   "source": [
    "print('R-Squared value = ',dtreg.score(x1,y1))"
   ]
  },
  {
   "cell_type": "markdown",
   "metadata": {},
   "source": [
    "<b>Here, we get a accuracy of 93% which is a very good model. </b>"
   ]
  },
  {
   "cell_type": "markdown",
   "metadata": {},
   "source": [
    "##### Predicting Salary using Decision Tree model"
   ]
  },
  {
   "cell_type": "code",
   "execution_count": 47,
   "metadata": {},
   "outputs": [],
   "source": [
    "y_pred = dtreg.predict(X_test)"
   ]
  },
  {
   "cell_type": "code",
   "execution_count": 48,
   "metadata": {},
   "outputs": [
    {
     "data": {
      "text/plain": [
       "array([ 45703.32,  93044.9 ,  88992.28,  68633.76,  72565.48,  75070.84,\n",
       "        51508.6 ,  60327.8 ,  37716.64,  72565.48,  68831.88,  45703.32,\n",
       "       127048.48,  47671.  ,  47707.4 , 101221.64,  60327.8 , 127683.4 ,\n",
       "        45703.32,  96526.56,  50153.22, 109617.04,  45703.32, 101221.64,\n",
       "        84012.76,  79849.64,  52615.68, 127683.4 ,  51508.6 , 156636.74])"
      ]
     },
     "execution_count": 48,
     "metadata": {},
     "output_type": "execute_result"
    }
   ],
   "source": [
    "y_pred"
   ]
  },
  {
   "cell_type": "markdown",
   "metadata": {},
   "source": [
    "This predicted values are similar to the actual values."
   ]
  },
  {
   "cell_type": "markdown",
   "metadata": {},
   "source": [
    "<b>Let us visualize that using the below plot.</b>"
   ]
  },
  {
   "cell_type": "code",
   "execution_count": 49,
   "metadata": {},
   "outputs": [
    {
     "data": {
      "image/png": "[encoded data removed]",
      "text/plain": [
       "<Figure size 432x288 with 1 Axes>"
      ]
     },
     "metadata": {
      "needs_background": "light"
     },
     "output_type": "display_data"
    }
   ],
   "source": [
    "_, ax = plt.subplots()\n",
    "\n",
    "ax.scatter(x = range(0, y_test.size), y=y_test, c = 'blue', label = 'Actual', alpha = 0.3)\n",
    "ax.scatter(x = range(0, y_pred.size), y=y_pred, c = 'red', label = 'Predicted', alpha = 0.3)\n",
    "\n",
    "plt.title('Actual Vs. Predicted values')\n",
    "plt.xlabel('Observations')\n",
    "plt.ylabel('mpg')\n",
    "plt.legend()\n",
    "plt.show()"
   ]
  },
  {
   "cell_type": "markdown",
   "metadata": {},
   "source": [
    "#### Cross validating the Decision Tree Model"
   ]
  },
  {
   "cell_type": "code",
   "execution_count": 51,
   "metadata": {},
   "outputs": [
    {
     "data": {
      "text/plain": [
       "array([0.96858716, 0.98537802, 0.65803729, 0.52294669, 0.97023759,\n",
       "       0.99096639, 0.91453754, 0.97247554, 0.97572702, 0.98678515])"
      ]
     },
     "execution_count": 51,
     "metadata": {},
     "output_type": "execute_result"
    }
   ],
   "source": [
    "scores = cross_val_score(dtreg, x1, y1, cv=10)\n",
    "scores"
   ]
  },
  {
   "cell_type": "markdown",
   "metadata": {},
   "source": [
    "We can see all the values have a good score.\n",
    "<b>Thus, I conclude, the Decision Tree model can be used to predict the salary of the customers with the identified attributes.</b>"
   ]
  }
 ],
 "metadata": {
  "kernelspec": {
   "display_name": "Python 3",
   "language": "python",
   "name": "python3"
  },
  "language_info": {
   "codemirror_mode": {
    "name": "ipython",
    "version": 3
   },
   "file_extension": ".py",
   "mimetype": "text/x-python",
   "name": "python",
   "nbconvert_exporter": "python",
   "pygments_lexer": "ipython3",
   "version": "3.7.4"
  }
 },
 "nbformat": 4,
 "nbformat_minor": 4
}
